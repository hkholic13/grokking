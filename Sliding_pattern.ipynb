{
  "nbformat": 4,
  "nbformat_minor": 0,
  "metadata": {
    "colab": {
      "provenance": []
    },
    "kernelspec": {
      "name": "python3",
      "display_name": "Python 3"
    },
    "language_info": {
      "name": "python"
    }
  },
  "cells": [
    {
      "cell_type": "code",
      "execution_count": null,
      "metadata": {
        "id": "b3TQ86K0oU0X"
      },
      "outputs": [],
      "source": [
        "#Average of contiguos elements of k=5 size"
      ]
    },
    {
      "cell_type": "code",
      "source": [
        "def avge(k, arr):\n",
        "  avg1=[]\n",
        "  s=0\n",
        "  for i in range(0,len(arr)+1-k):\n",
        "    for p in range(i,i+k):\n",
        "      s+=arr[p]\n",
        "    avg1.append(s/k)\n",
        "    s=0\n",
        "  return avg1\n",
        "\n",
        "if __name__==\"__main__\":\n",
        "  print(avge(5,[1,3,2,6,-1,4,1,8,2]))\n",
        "\n",
        "#timecomplexity- O(n*k)\n"
      ],
      "metadata": {
        "colab": {
          "base_uri": "https://localhost:8080/"
        },
        "id": "W4w8u_MzogZD",
        "outputId": "db73ebf5-5109-4f6a-fa0d-4fdc9cf7f1dd"
      },
      "execution_count": null,
      "outputs": [
        {
          "output_type": "stream",
          "name": "stdout",
          "text": [
            "[2.2, 2.8, 2.4, 3.6, 2.8]\n"
          ]
        }
      ]
    },
    {
      "cell_type": "code",
      "source": [
        "def avge(k, arr):\n",
        "  s=0\n",
        "  avg1=[]\n",
        "  for i in range(0,len(arr)+1):\n",
        "    if i>=k:\n",
        "      avg1.append(s/k)\n",
        "      s-=arr[i-k]\n",
        "    if i>len(arr)-1:\n",
        "      pass\n",
        "    else:\n",
        "      s+=arr[i]\n",
        "  return avg1\n",
        "if __name__==\"__main__\":\n",
        "  print(avge(5,[1,3,2,6,-1,4,1,8,2]))\n",
        "\n",
        "#timecomplexity- O(n*k)"
      ],
      "metadata": {
        "colab": {
          "base_uri": "https://localhost:8080/"
        },
        "id": "Mwvui_veoiG_",
        "outputId": "e9d25029-7073-4cb0-98db-e727b6e8b0fe"
      },
      "execution_count": null,
      "outputs": [
        {
          "output_type": "stream",
          "name": "stdout",
          "text": [
            "[2.2, 2.8, 2.4, 3.6, 2.8]\n"
          ]
        }
      ]
    },
    {
      "cell_type": "code",
      "source": [
        "#Maximum sum subarray of size k"
      ],
      "metadata": {
        "id": "el1y3c_v4qjW"
      },
      "execution_count": null,
      "outputs": []
    },
    {
      "cell_type": "code",
      "source": [
        "def maxSum(k, arr):\n",
        "  res=[]\n",
        "  sumj=0\n",
        "  for i in range(len(arr)-k+1):\n",
        "    for j in range(i,i+k):\n",
        "      sumj+=arr[j]\n",
        "      res.append(sumj)\n",
        "    sumj=0\n",
        "  return max(res)\n",
        "if __name__==\"__main__\":\n",
        "  print(maxSum(3,[2,1,5,1,3,2]))\n",
        "\n",
        "#timecomplexity- O(n*k)"
      ],
      "metadata": {
        "colab": {
          "base_uri": "https://localhost:8080/"
        },
        "id": "ERHseO-A-ArT",
        "outputId": "1409c32e-a336-4b0b-b4a6-ea1521ec27c6"
      },
      "execution_count": null,
      "outputs": [
        {
          "output_type": "stream",
          "name": "stdout",
          "text": [
            "9\n"
          ]
        }
      ]
    },
    {
      "cell_type": "code",
      "source": [
        "def maxSum(k, arr):\n",
        "  res=[]\n",
        "  windowStart=0\n",
        "  windowSum=0.0\n",
        "  for i in range(len(arr)):\n",
        "    windowSum+=arr[i]\n",
        "    if i>=k-1:\n",
        "      res.append(windowSum)\n",
        "      windowSum-=arr[windowStart]\n",
        "      windowStart+=14\n",
        "  return max(res)\n",
        "if __name__==\"__main__\":\n",
        "  print(maxSum(3,[2,1,5,1,3,2]))\n",
        "\n",
        "#timecomplexity- O(n)"
      ],
      "metadata": {
        "colab": {
          "base_uri": "https://localhost:8080/"
        },
        "id": "ba12g9UB-Xou",
        "outputId": "55dd368a-d970-4c37-83df-2fc94706e69b"
      },
      "execution_count": null,
      "outputs": [
        {
          "output_type": "stream",
          "name": "stdout",
          "text": [
            "9.0\n"
          ]
        }
      ]
    },
    {
      "cell_type": "code",
      "source": [
        "#smallest subarray with given sum"
      ],
      "metadata": {
        "id": "ndS3o1F6AUwS"
      },
      "execution_count": null,
      "outputs": []
    },
    {
      "cell_type": "code",
      "source": [
        "def minSum(s, arr):\n",
        "  sumj=0\n",
        "  for k in range(0,len(arr)):\n",
        "    for i in range(len(arr)-k+1):\n",
        "      for j in range(i,i+k):\n",
        "        sumj+=arr[j]\n",
        "      if sumj>=s:\n",
        "        return k\n",
        "      sumj=0\n",
        "if __name__==\"__main__\":\n",
        "  print(minSum(7,[2,1,5,2,8]))\n",
        "\n",
        "#timecomplexity- O(n*k)"
      ],
      "metadata": {
        "colab": {
          "base_uri": "https://localhost:8080/"
        },
        "id": "zGnO4Rh0HIPo",
        "outputId": "6c79c2cf-052a-4e3e-d328-17d8326ef20c"
      },
      "execution_count": null,
      "outputs": [
        {
          "output_type": "stream",
          "name": "stdout",
          "text": [
            "1\n"
          ]
        }
      ]
    },
    {
      "cell_type": "code",
      "source": [
        "def minSum(s, arr):\n",
        "\n",
        "  for i in range(1,len(arr)):\n",
        "    sumj=0\n",
        "    p=0\n",
        "    res=[]\n",
        "    for k in range(0,len(arr)):\n",
        "      sumj+=arr[k]\n",
        "      if k>=i-1:\n",
        "        if sumj>=s:\n",
        "          return i\n",
        "        sumj-=arr[p]\n",
        "        p+=1\n",
        "\n",
        "if __name__==\"__main__\":\n",
        "  print(minSum(7,[2,1,5,2,3,2]))\n",
        "\n",
        "#timecomplexity- O(n)"
      ],
      "metadata": {
        "colab": {
          "base_uri": "https://localhost:8080/"
        },
        "id": "23eSOSRuICq8",
        "outputId": "8886ce7f-238a-4036-b146-99a11fc84610"
      },
      "execution_count": null,
      "outputs": [
        {
          "output_type": "stream",
          "name": "stdout",
          "text": [
            "2\n"
          ]
        }
      ]
    },
    {
      "cell_type": "code",
      "source": [],
      "metadata": {
        "id": "WNa-UqxlXpN8"
      },
      "execution_count": null,
      "outputs": []
    },
    {
      "cell_type": "code",
      "source": [
        "#longest substring with k distinct characters & fruits in basket with 2 distinct"
      ],
      "metadata": {
        "id": "aB4xXR9cJxxB"
      },
      "execution_count": null,
      "outputs": []
    },
    {
      "cell_type": "code",
      "source": [
        "def longest(r,arr):\n",
        "  w_s=0\n",
        "  char_f={}\n",
        "  max_l=0\n",
        "  for w_e in range(len(arr)):\n",
        "    r_c=arr[w_e]\n",
        "    if r_c not in char_f:\n",
        "      char_f[r_c]=0\n",
        "    else:\n",
        "      char_f[r_c]+=1\n",
        "\n",
        "    while len(char_f) > r:\n",
        "      print(char_f)\n",
        "      l_c=arr[w_s]\n",
        "      if char_f[l_c]==0:\n",
        "        del char_f[l_c]\n",
        "      else:\n",
        "        char_f[l_c]-=1\n",
        "      w_s+=1\n",
        "    max_l=max(max_l,w_e-w_s+1)\n",
        "  return max_l\n",
        "\n",
        "\n",
        "if __name__==\"__main__\":\n",
        "  print(longest(2,'abcac'))"
      ],
      "metadata": {
        "colab": {
          "base_uri": "https://localhost:8080/"
        },
        "id": "HNnISJCIXr_T",
        "outputId": "fb76dafb-c1f1-4eda-d1c8-63c57aa777fb"
      },
      "execution_count": null,
      "outputs": [
        {
          "output_type": "stream",
          "name": "stdout",
          "text": [
            "{'a': 0, 'b': 0, 'c': 0}\n",
            "{'b': 0, 'c': 0, 'a': 0}\n",
            "3\n"
          ]
        }
      ]
    },
    {
      "cell_type": "code",
      "source": [
        "#no-repeat substring longest"
      ],
      "metadata": {
        "id": "9ySzWtLnYzJ0"
      },
      "execution_count": null,
      "outputs": []
    },
    {
      "cell_type": "code",
      "source": [
        "def longest(r,arr):\n",
        "  w_s=0\n",
        "  char_f={}\n",
        "  max_l=0\n",
        "  for w_e in range(len(arr)):\n",
        "    r_c=arr[w_e]\n",
        "    if r_c in char_f:\n",
        "      w_s=max(w_s,char_f[r_c]+1)\n",
        "    char_f[r_c]=w_e\n",
        "    max_l=max(max_l,w_e-w_s+1)\n",
        "  return max_l\n",
        "\n",
        "\n",
        "if __name__==\"__main__\":\n",
        "  print(longest(2,'abbbb'))"
      ],
      "metadata": {
        "colab": {
          "base_uri": "https://localhost:8080/"
        },
        "id": "VQSDyiddJvjD",
        "outputId": "51d3c9e9-d6b6-4527-e8ea-0d0aa2767509"
      },
      "execution_count": null,
      "outputs": [
        {
          "output_type": "stream",
          "name": "stdout",
          "text": [
            "2\n"
          ]
        }
      ]
    },
    {
      "cell_type": "code",
      "source": [
        "#longest substrign with same letters after replacment"
      ],
      "metadata": {
        "id": "iSDxZWCCMP7V"
      },
      "execution_count": null,
      "outputs": []
    },
    {
      "cell_type": "code",
      "source": [
        "def longest(r,arr):\n",
        "  w_s=0\n",
        "  char_f={}\n",
        "  max_l=0\n",
        "  for w_e in range(len(arr)):\n",
        "    r_c=arr[w_e]\n",
        "    if r_c not in char_f:\n",
        "      char_f[r_c]=0\n",
        "    char_f[r_c]+=1\n",
        "    while (w_e-w_s+1-char_f[r_c]) > r:\n",
        "      l_c=arr[w_s]\n",
        "      char_f[l_c]-=1\n",
        "      w_s+=1\n",
        "    max_l=max(max_l,w_e-w_s+1)\n",
        "\n",
        "  return max_l\n",
        "\n",
        "\n",
        "if __name__==\"__main__\":\n",
        "  print(longest(3,'01001101100111'))"
      ],
      "metadata": {
        "colab": {
          "base_uri": "https://localhost:8080/"
        },
        "id": "nLD6IkOEPOdb",
        "outputId": "9ab59786-b424-4d4a-eb8b-5dd2c0f06394"
      },
      "execution_count": null,
      "outputs": [
        {
          "output_type": "stream",
          "name": "stdout",
          "text": [
            "9\n"
          ]
        }
      ]
    },
    {
      "cell_type": "code",
      "source": [
        "#problem challenge 1- Permutation in a String (hard)"
      ],
      "metadata": {
        "id": "IkEi4U6OP6F-"
      },
      "execution_count": null,
      "outputs": []
    },
    {
      "cell_type": "code",
      "source": [
        "def longest(r,arr):\n",
        "  ws=0\n",
        "  char_f={}\n",
        "  matched=0\n",
        "  for i in r:\n",
        "    if i not in char_f:\n",
        "      char_f[i]=0\n",
        "    char_f[i]+=1\n",
        "  for i in range(len(arr)):\n",
        "    print(arr[ws:i+1], char_f)\n",
        "    rc=arr[i]\n",
        "    if rc in char_f:\n",
        "      char_f[rc]-=1\n",
        "      matched+=1\n",
        "    if len(char_f)==matched:\n",
        "      return True\n",
        "    if len(r)-1 <= i:\n",
        "      l=arr[ws]\n",
        "      ws+=1\n",
        "      if l in char_f:\n",
        "        if char_f[l] ==0:\n",
        "          matched-=1\n",
        "        char_f[l]+=1\n",
        "  return False\n",
        "\n",
        "\n",
        "if __name__==\"__main__\":\n",
        "  print(longest('abc','oidbcaf'))"
      ],
      "metadata": {
        "colab": {
          "base_uri": "https://localhost:8080/"
        },
        "id": "RsirpYtbLX_G",
        "outputId": "49fab7bd-19c3-48c2-d7c1-c88dba3df8fa"
      },
      "execution_count": null,
      "outputs": [
        {
          "output_type": "stream",
          "name": "stdout",
          "text": [
            "o {'a': 1, 'b': 1, 'c': 1}\n",
            "oi {'a': 1, 'b': 1, 'c': 1}\n",
            "oid {'a': 1, 'b': 1, 'c': 1}\n",
            "idb {'a': 1, 'b': 1, 'c': 1}\n",
            "dbc {'a': 1, 'b': 0, 'c': 1}\n",
            "bca {'a': 1, 'b': 0, 'c': 0}\n",
            "True\n"
          ]
        }
      ]
    },
    {
      "cell_type": "code",
      "source": [
        "#string anagram"
      ],
      "metadata": {
        "id": "geTC1lV0Mj6j"
      },
      "execution_count": null,
      "outputs": []
    },
    {
      "cell_type": "code",
      "source": [
        "def anagram(arr,p):\n",
        "  char_f={}\n",
        "  ws=0\n",
        "  matched=0\n",
        "  res=[]\n",
        "  for i in p:\n",
        "    if i not in char_f:\n",
        "      char_f[i]=0\n",
        "    char_f[i]+=1\n",
        "\n",
        "  for i in range(len(arr)):\n",
        "    rc=arr[i]\n",
        "    if rc in char_f:\n",
        "      char_f[rc]-=1\n",
        "      if char_f[rc]==0:\n",
        "        matched+=1\n",
        "    if matched == len(char_f):\n",
        "      res.append(ws)\n",
        "\n",
        "    if len(p)-1 <= i:\n",
        "      l=arr[ws]\n",
        "      ws+=1\n",
        "      if l in char_f:\n",
        "        if char_f[l] ==0:\n",
        "          matched-=1\n",
        "        char_f[l]+=1\n",
        "  return res\n",
        "if __name__==\"__main__\":\n",
        "  print(anagram(\"ppqp\",\"pq\"))\n"
      ],
      "metadata": {
        "colab": {
          "base_uri": "https://localhost:8080/"
        },
        "id": "ePmJpHzybGhi",
        "outputId": "57e2226f-55f6-4a45-a192-f11b3860759a"
      },
      "execution_count": null,
      "outputs": [
        {
          "output_type": "stream",
          "name": "stdout",
          "text": [
            "[1, 2]\n"
          ]
        }
      ]
    },
    {
      "cell_type": "code",
      "source": [
        "# smallest window containg substring\n",
        "# We will keep a running count of every matching instance of a character.\n",
        "# Whenever we have matched all the characters, we will try to shrink the window from the beginning, keeping track of the smallest substring that has all the matching characters.\n",
        "# We will stop the shrinking process as soon as we remove a matched character from the sliding window. One thing to note here is that we could have redundant matching characters,\n",
        "# e.g., we might have two ‘a’ in the sliding window when we only need one ‘a’. In that case, when we encounter the first ‘a’, we will simply shrink the window without decrementing the matched count. We will decrement the matched count when the second ‘a’ goes out of the window."
      ],
      "metadata": {
        "id": "aH3TtQoRcOre"
      },
      "execution_count": null,
      "outputs": []
    },
    {
      "cell_type": "code",
      "source": [
        "def mins(p,arr):\n",
        "  ws=0\n",
        "  min_l=len(arr)+1\n",
        "  char_f={}\n",
        "  ss=0\n",
        "  matched=0\n",
        "  for i in p:\n",
        "    if i not in char_f:\n",
        "      char_f[i]=0\n",
        "    char_f[i]+=1\n",
        "  for i in range(len(arr)):\n",
        "    rc=arr[i]\n",
        "    if rc in char_f:\n",
        "      char_f[rc]-=1\n",
        "      if char_f[rc] >=0:\n",
        "        matched+=1\n",
        "    while matched == len(p):\n",
        "      if min_l>i-ws+1:\n",
        "        min_l=i-ws+1\n",
        "        ss=ws\n",
        "      l=arr[ws]\n",
        "      ws+=1\n",
        "      if l in char_f:\n",
        "        if char_f[l]==0:\n",
        "          matched-=1\n",
        "        char_f[l]+=1\n",
        "  if min_l>len(arr):\n",
        "    return \"\"\n",
        "  return arr[ss:ss+min_l]\n",
        "if __name__==\"__main__\":\n",
        "  print(mins(\"abc\", \"aabdec\"))"
      ],
      "metadata": {
        "colab": {
          "base_uri": "https://localhost:8080/"
        },
        "id": "7DIfVcNBeSGo",
        "outputId": "929b6ea0-e7e9-446f-aa8b-32874716d3d9"
      },
      "execution_count": null,
      "outputs": [
        {
          "output_type": "stream",
          "name": "stdout",
          "text": [
            "abdec\n"
          ]
        }
      ]
    },
    {
      "cell_type": "code",
      "source": [
        "# Words Concatenation (hard) #\n",
        "# Given a string and a list of words, find all the starting indices of substrings in the given string that are a concatenation of all the given words exactly once without any overlapping of words. It is given that all words are of the same length."
      ],
      "metadata": {
        "id": "H_FBHWD2iItN"
      },
      "execution_count": null,
      "outputs": []
    },
    {
      "cell_type": "code",
      "source": [
        "def find_word_concatenation(str, words):\n",
        "  if len(words) == 0 or len(words[0]) == 0:\n",
        "    return []\n",
        "  word_frequency = {}\n",
        "  for word in words:\n",
        "    if word not in word_frequency:\n",
        "      word_frequency [word]=0\n",
        "      word_frequency[word] += 1\n",
        "  result_indices = []\n",
        "  words_count = len(words)\n",
        "  word_length = len(words[0])\n",
        "  for i in range((len(str) - words_count* word_length)+1):\n",
        "    words_seen = {}\n",
        "    for j in range(0, words_count):\n",
        "      next_word_index = i + j * word_length # Get the next word from the string\n",
        "      word = str[next_word_index: next_word_index + word_length]\n",
        "      print(word,word_frequency,words_seen,i,j)\n",
        "      if word not in word_frequency: # Break if we don't need this word break\n",
        "        break\n",
        "      if word not in words_seen:\n",
        "        words_seen[word]=0\n",
        "      words_seen[word]+=1\n",
        "      if words_seen[word]>word_frequency.get(word,0):\n",
        "        break\n",
        "      if j+1 == words_count:\n",
        "        result_indices.append(i)\n",
        "  return result_indices\n",
        "\n",
        "if __name__==\"__main__\":\n",
        "  print(find_word_concatenation(\"catfoxcat\",[\"cat\",\"fox\"]))\n",
        "\n",
        "\n",
        "\n",
        ""
      ],
      "metadata": {
        "colab": {
          "base_uri": "https://localhost:8080/"
        },
        "id": "bOEIcgh4mXz5",
        "outputId": "20a43649-0a61-4575-b6e1-1423b6903efc"
      },
      "execution_count": null,
      "outputs": [
        {
          "output_type": "stream",
          "name": "stdout",
          "text": [
            "cat {'cat': 1, 'fox': 1} {} 0 0\n",
            "fox {'cat': 1, 'fox': 1} {'cat': 1} 0 1\n",
            "atf {'cat': 1, 'fox': 1} {} 1 0\n",
            "tfo {'cat': 1, 'fox': 1} {} 2 0\n",
            "fox {'cat': 1, 'fox': 1} {} 3 0\n",
            "cat {'cat': 1, 'fox': 1} {'fox': 1} 3 1\n",
            "[0, 3]\n"
          ]
        }
      ]
    },
    {
      "cell_type": "code",
      "source": [
        "def words(words,arr):\n",
        "  if len(words)==0 or len(words[0])==0:\n",
        "    return []\n",
        "  words_freq={}\n",
        "  res=[]\n",
        "  words_count=len(words)\n",
        "  word_len=len(words[0])\n",
        "  for i in words:\n",
        "    if i not in words_freq:\n",
        "      words_freq[i]=0\n",
        "    words_freq+=1\n",
        "\n",
        "  for i in range(len(arr)-words_count*word_len+1):\n",
        "    words_seen={}\n",
        "    for j in range(words_count):\n",
        "      next=i+j*word_len\n",
        "      word=arr[next:next+word_len]\n",
        "      if word not in words_freq:\n",
        "        break\n",
        "      if word not in words_seen:\n",
        "        words_seen[word]=0\n",
        "      words_seen[word]+=1\n",
        "      if j+1==words_count:\n",
        "        res.append(i)\n",
        "  return res\n",
        "if __name__==\"__main__\":\n",
        "  print(find_word_concatenation(\"catfoxcat\",[\"cat\",\"fox\"]))"
      ],
      "metadata": {
        "colab": {
          "base_uri": "https://localhost:8080/"
        },
        "id": "U3W3GNgHnHtr",
        "outputId": "741b5b73-d219-41dd-ffbf-bc3aaca27865"
      },
      "execution_count": null,
      "outputs": [
        {
          "output_type": "stream",
          "name": "stdout",
          "text": [
            "cat {'cat': 1, 'fox': 1} {} 0 0\n",
            "fox {'cat': 1, 'fox': 1} {'cat': 1} 0 1\n",
            "atf {'cat': 1, 'fox': 1} {} 1 0\n",
            "tfo {'cat': 1, 'fox': 1} {} 2 0\n",
            "fox {'cat': 1, 'fox': 1} {} 3 0\n",
            "cat {'cat': 1, 'fox': 1} {'fox': 1} 3 1\n",
            "[0, 3]\n"
          ]
        }
      ]
    },
    {
      "cell_type": "code",
      "source": [
        "#longest substring with k distinct charactewrs"
      ],
      "metadata": {
        "id": "0q58mswkGy2N"
      },
      "execution_count": null,
      "outputs": []
    },
    {
      "cell_type": "code",
      "source": [
        "# def d(arr,k):\n",
        "#   char_f={}\n",
        "#   max_l=0\n",
        "#   ws=0\n",
        "#   for i in range(len(arr)):\n",
        "#     rc=arr[i]\n",
        "#     if rc not in char_f:\n",
        "#       char_f[rc]=0\n",
        "#     char_f[rc]+=1\n",
        "#     while len(char_f) >k:\n",
        "#       l=arr[ws]\n",
        "#       ws+=1\n",
        "#       char_f[l]-=1\n",
        "#       if char_f[l]==0:\n",
        "#         del char_f[l]\n",
        "#     max_l=max(max_l,i-ws+1)\n",
        "#   return max_l\n",
        "# d(\"abcac\",2)\n",
        "\n",
        "\n",
        ""
      ],
      "metadata": {
        "colab": {
          "base_uri": "https://localhost:8080/"
        },
        "id": "4uZzsoRjcKJp",
        "outputId": "c400f94f-d01e-472c-eb77-51a642d09b39"
      },
      "execution_count": null,
      "outputs": [
        {
          "output_type": "execute_result",
          "data": {
            "text/plain": [
              "3"
            ]
          },
          "metadata": {},
          "execution_count": 4
        }
      ]
    },
    {
      "cell_type": "code",
      "source": [],
      "metadata": {
        "id": "1YtATwQcdKIe"
      },
      "execution_count": null,
      "outputs": []
    }
  ]
}