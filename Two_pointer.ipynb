{
  "nbformat": 4,
  "nbformat_minor": 0,
  "metadata": {
    "colab": {
      "provenance": []
    },
    "kernelspec": {
      "name": "python3",
      "display_name": "Python 3"
    },
    "language_info": {
      "name": "python"
    }
  },
  "cells": [
    {
      "cell_type": "code",
      "execution_count": null,
      "metadata": {
        "id": "1Rb5aE_EdPl-"
      },
      "outputs": [],
      "source": [
        "#Pair with Target Sum"
      ]
    },
    {
      "cell_type": "code",
      "source": [
        "def sumPair(nums,target):\n",
        "  i=0\n",
        "  j=len(nums)-1\n",
        "  while i<j:\n",
        "    sumj=nums[i]+nums[j]\n",
        "    if sumj==target:\n",
        "      return i,j\n",
        "    elif sumj<target:\n",
        "      i+=1\n",
        "    elif sumj>target:\n",
        "      j-=1\n",
        "  return None\n",
        "print(sumPair([1,2,3,4,6],6))"
      ],
      "metadata": {
        "colab": {
          "base_uri": "https://localhost:8080/"
        },
        "id": "3yDv4s7VdVzv",
        "outputId": "009e60a7-cbac-442a-e584-b7c6e03b6953"
      },
      "execution_count": null,
      "outputs": [
        {
          "output_type": "stream",
          "name": "stdout",
          "text": [
            "(1, 3)\n"
          ]
        }
      ]
    },
    {
      "cell_type": "code",
      "source": [
        "#with hashtable"
      ],
      "metadata": {
        "id": "C8ntzaHDdyTs"
      },
      "execution_count": null,
      "outputs": []
    },
    {
      "cell_type": "code",
      "source": [
        "def sumP(nums,target):\n",
        "  h={}\n",
        "  for i,n in enumerate(nums):\n",
        "    if target-n in h:\n",
        "      return [i,h[target-n]]\n",
        "    else:\n",
        "      h[nums[i]]=i\n",
        "  return [-1,-1]\n",
        "sumP([1,2,3,4,6],6)"
      ],
      "metadata": {
        "colab": {
          "base_uri": "https://localhost:8080/"
        },
        "id": "vYUS-oRygsjP",
        "outputId": "366882c3-fbf7-42c1-8a95-cc7509a362a7"
      },
      "execution_count": null,
      "outputs": [
        {
          "output_type": "execute_result",
          "data": {
            "text/plain": [
              "[3, 1]"
            ]
          },
          "metadata": {},
          "execution_count": 17
        }
      ]
    },
    {
      "cell_type": "code",
      "source": [
        "#remove duplicates"
      ],
      "metadata": {
        "id": "vGyJhIA8hNp4"
      },
      "execution_count": null,
      "outputs": []
    },
    {
      "cell_type": "code",
      "source": [
        "def removeDuplicates(arr):\n",
        "  next=1\n",
        "  i=1\n",
        "  while i<len(arr):\n",
        "    if arr[next-1]!=arr[i]:\n",
        "      arr[next]=arr[i]\n",
        "      next+=1\n",
        "    i+=1\n",
        "  return next\n",
        "removeDuplicates([2,3,3,3,6,9,9])\n"
      ],
      "metadata": {
        "colab": {
          "base_uri": "https://localhost:8080/"
        },
        "id": "UwVp4pBCzMcH",
        "outputId": "6570ad9b-cacc-4e4d-b7c5-18cb2f1b3bcc"
      },
      "execution_count": null,
      "outputs": [
        {
          "output_type": "execute_result",
          "data": {
            "text/plain": [
              "4"
            ]
          },
          "metadata": {},
          "execution_count": 20
        }
      ]
    },
    {
      "cell_type": "code",
      "source": [
        "#remove key from arrya in unsorted"
      ],
      "metadata": {
        "id": "MYYELA-ozU9V"
      },
      "execution_count": null,
      "outputs": []
    },
    {
      "cell_type": "code",
      "source": [
        "def removeD(arr,k):\n",
        "  n=0\n",
        "  for i in range(len(arr)):\n",
        "    if k!=arr[i]:\n",
        "      arr[n]=arr[i]\n",
        "      n+=1\n",
        "  return n\n",
        "\n",
        "\n",
        "removeD([2,3,3,3,6,9,9],3)\n"
      ],
      "metadata": {
        "colab": {
          "base_uri": "https://localhost:8080/"
        },
        "id": "44QIq0Nr3Ece",
        "outputId": "3d2be80e-fcd9-48e1-ae83-a41ccf8c3b3a"
      },
      "execution_count": null,
      "outputs": [
        {
          "output_type": "execute_result",
          "data": {
            "text/plain": [
              "4"
            ]
          },
          "metadata": {},
          "execution_count": 23
        }
      ]
    },
    {
      "cell_type": "code",
      "source": [
        "#sorted array-squaring"
      ],
      "metadata": {
        "id": "9O4GZWeT3nYl"
      },
      "execution_count": null,
      "outputs": []
    },
    {
      "cell_type": "code",
      "source": [
        "def sq(arr):\n",
        "  s=[0 for i in arr]\n",
        "  h=len(arr)-1\n",
        "  l=0\n",
        "  r=len(arr)-1\n",
        "  while l<=r:\n",
        "    sql=arr[l]**2\n",
        "    sqr=arr[r]**2\n",
        "    if sql>sqr:\n",
        "      s[h]=sql\n",
        "      l+=1\n",
        "    else:\n",
        "      s[h]=sqr\n",
        "      r-=1\n",
        "    h-=1\n",
        "  return s\n",
        "print(sq([-3,-1,0,1,2]))"
      ],
      "metadata": {
        "colab": {
          "base_uri": "https://localhost:8080/"
        },
        "id": "U8TmmEPq6br1",
        "outputId": "c720b39b-2f2c-42b2-f57c-287fd36cb452"
      },
      "execution_count": null,
      "outputs": [
        {
          "output_type": "stream",
          "name": "stdout",
          "text": [
            "[0, 1, 1, 4, 9]\n"
          ]
        }
      ]
    },
    {
      "cell_type": "code",
      "source": [
        "#Triplet Sum to Zero (medium)"
      ],
      "metadata": {
        "id": "nqRDJi2s6cbV"
      },
      "execution_count": null,
      "outputs": []
    },
    {
      "cell_type": "code",
      "source": [
        "def d(arr):\n",
        "  arr.sort()\n",
        "  triplets=[]\n",
        "  for i in range(len(arr)):\n",
        "    if i>0 and arr[i]==arr[i-1]:\n",
        "      continue\n",
        "    search_pair(arr,-arr[i],i+1,triplets)\n",
        "  return triplets\n",
        "\n",
        "def search_pair(arr,target_sum,left,triplets):\n",
        "  right=len(arr)-1\n",
        "  while left<right:\n",
        "    current_sum=arr[left]+arr[right]\n",
        "    if target_sum==current_sum:\n",
        "      triplets.append([-target_sum,arr[left],arr[right]])\n",
        "      left+=1\n",
        "      right-=1\n",
        "      while left<right and arr[left]==arr[left-1]:\n",
        "        left+=1\n",
        "      while left<right and arr[right]==arr[right+1]:\n",
        "        right-=1\n",
        "    elif current_sum>target_sum:\n",
        "        right-=1\n",
        "    else:\n",
        "        left+=1\n",
        "\n",
        "\n",
        "print(d([-3,0,1,2,-1,1,-2]))\n",
        "\n",
        "\n",
        "\n"
      ],
      "metadata": {
        "colab": {
          "base_uri": "https://localhost:8080/"
        },
        "id": "MuX6bmuA8JQv",
        "outputId": "8b38113e-bb2d-4a44-c366-878eae49af10"
      },
      "execution_count": null,
      "outputs": [
        {
          "output_type": "stream",
          "name": "stdout",
          "text": [
            "[[-3, 1, 2], [-2, 0, 2], [-2, 1, 1], [-1, 0, 1]]\n"
          ]
        }
      ]
    },
    {
      "cell_type": "code",
      "source": [
        "#triplet sum closest to target"
      ],
      "metadata": {
        "id": "HZQx7kZ68Pnv"
      },
      "execution_count": null,
      "outputs": []
    },
    {
      "cell_type": "code",
      "source": [
        "def close(arr,t):\n",
        "  closest=float('inf')\n",
        "  for i in range(len(arr)-2):\n",
        "    left=i+1\n",
        "    right=len(arr)-1\n",
        "    while left < right:\n",
        "      current_sum=arr[left]+arr[i]+arr[right]\n",
        "      if abs(current_sum-t) < abs(closest-t):\n",
        "        closest=current_sum\n",
        "      if current_sum<t:\n",
        "        left+=1\n",
        "      else:\n",
        "        right-=1\n",
        "  return closest\n",
        "\n",
        "print(close([-2,0,1,2],2))\n",
        "\n",
        "\n"
      ],
      "metadata": {
        "colab": {
          "base_uri": "https://localhost:8080/"
        },
        "id": "uQjnNXpnjmJK",
        "outputId": "b5cb40e4-a7f1-4e06-dc4f-e1cbaa70467e"
      },
      "execution_count": null,
      "outputs": [
        {
          "output_type": "stream",
          "name": "stdout",
          "text": [
            "1\n"
          ]
        }
      ]
    },
    {
      "cell_type": "code",
      "source": [
        "#Triplets with Smaller Sum (medium)"
      ],
      "metadata": {
        "id": "NnKUFlN0l3nl"
      },
      "execution_count": null,
      "outputs": []
    },
    {
      "cell_type": "code",
      "source": [
        "def sm(arr,t):\n",
        "  arr.sort()\n",
        "  res=0\n",
        "  for i in range(len(arr)-2):\n",
        "    l=i+1\n",
        "    r=len(arr)-1\n",
        "    while l<r:\n",
        "      c_s=arr[i]+arr[l]+arr[r]\n",
        "      if c_s<t:\n",
        "        print(arr[i],arr[l],arr[r])\n",
        "        res+=r-l\n",
        "        l+=1\n",
        "      else:\n",
        "        r-=1\n",
        "  return res\n",
        "\n",
        "print(sm([-1,0,2,3],3))\n"
      ],
      "metadata": {
        "colab": {
          "base_uri": "https://localhost:8080/"
        },
        "id": "ZGHKlI49mnPc",
        "outputId": "fed80624-1710-4447-e28f-44a21890306a"
      },
      "execution_count": null,
      "outputs": [
        {
          "output_type": "stream",
          "name": "stdout",
          "text": [
            "-1 0 3\n",
            "2\n"
          ]
        }
      ]
    },
    {
      "cell_type": "code",
      "source": [
        "#Dutch National Flag Problem (medium)"
      ],
      "metadata": {
        "id": "KW07AT_pnqis"
      },
      "execution_count": null,
      "outputs": []
    },
    {
      "cell_type": "code",
      "source": [
        "def dutch(arr):\n",
        "  l=0\n",
        "  r=len(arr)-1\n",
        "  i=0\n",
        "  while i<=r:\n",
        "    if arr[i]<1:\n",
        "      arr[l],arr[i]=arr[i],arr[l]\n",
        "      l+=1\n",
        "      i+=1\n",
        "    elif arr[i]>1:\n",
        "      arr[r],arr[i]=arr[i],arr[r]\n",
        "      r-=1\n",
        "    else:\n",
        "      i+=1\n",
        "  return arr\n",
        "\n",
        "dutch([2,2,0,1,2,0])\n"
      ],
      "metadata": {
        "colab": {
          "base_uri": "https://localhost:8080/"
        },
        "id": "n0gHfs7MxM1B",
        "outputId": "4d68e55b-35bc-46d1-f72f-474f1b5f6936"
      },
      "execution_count": null,
      "outputs": [
        {
          "output_type": "execute_result",
          "data": {
            "text/plain": [
              "[0, 0, 1, 2, 2, 2]"
            ]
          },
          "metadata": {},
          "execution_count": 48
        }
      ]
    },
    {
      "cell_type": "code",
      "source": [],
      "metadata": {
        "id": "kxHqTfxkyzgH"
      },
      "execution_count": null,
      "outputs": []
    }
  ]
}